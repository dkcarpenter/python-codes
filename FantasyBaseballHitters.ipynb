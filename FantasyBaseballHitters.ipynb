{
 "cells": [
  {
   "cell_type": "code",
   "execution_count": 1,
   "id": "5861916d",
   "metadata": {},
   "outputs": [],
   "source": [
    "import pandas as pd"
   ]
  },
  {
   "cell_type": "markdown",
   "id": "ab86885e",
   "metadata": {},
   "source": [
    "Read in csv files from baseballsavant.com and rotowire.com.  These two sites provide different but useful information that I'd like to use in my analysis."
   ]
  },
  {
   "cell_type": "code",
   "execution_count": 2,
   "id": "a9718c48",
   "metadata": {
    "scrolled": true
   },
   "outputs": [],
   "source": [
    "#Load Baseball savant csv files\n",
    "\n",
    "df1 = pd.read_csv('hitters_2018.csv')\n",
    "df2 = pd.read_csv('hitters_2019.csv')\n",
    "df3 = pd.read_csv('hitters_2021.csv')\n",
    "df4 = pd.read_csv('hitters_2022.csv')\n",
    "df5 = pd.read_csv('hitters_2023.csv')\n",
    "\n",
    "#Load rotowire csv files\n",
    "\n",
    "df6 = pd.read_csv('hp_2018.csv')\n",
    "df7 = pd.read_csv('hp_2019.csv')\n",
    "df8 = pd.read_csv('hp_2021.csv')\n",
    "df9 = pd.read_csv('hp_2022.csv')\n",
    "df10 = pd.read_csv('hp_2023.csv')\n",
    "\n"
   ]
  },
  {
   "cell_type": "markdown",
   "id": "168e7cb8",
   "metadata": {},
   "source": [
    "Trim rotowire stats to only include relevant info, rename 'Player' column to 'full_name' in order to join tables later"
   ]
  },
  {
   "cell_type": "code",
   "execution_count": 3,
   "id": "05e735e6",
   "metadata": {},
   "outputs": [],
   "source": [
    "df6 = df6[['Player','Team','Pos']]\n",
    "df7 = df7[['Player','Team','Pos']]\n",
    "df8 = df8[['Player','Team','Pos']]\n",
    "df9 = df9[['Player','Team','Pos']]\n",
    "df10 = df10[['Player','Team','Pos']]\n",
    "\n",
    "df6.rename(columns={'Player': 'full_name'}, inplace=True)\n",
    "df7.rename(columns={'Player': 'full_name'}, inplace=True)\n",
    "df8.rename(columns={'Player': 'full_name'}, inplace=True)\n",
    "df9.rename(columns={'Player': 'full_name'}, inplace=True)\n",
    "df10.rename(columns={'Player': 'full_name'}, inplace=True)\n",
    "\n",
    "\n",
    "#positions.rename(columns={'Player': 'full_name'}, inplace=True)"
   ]
  },
  {
   "cell_type": "markdown",
   "id": "c7465ccb",
   "metadata": {},
   "source": [
    "Rename Columns"
   ]
  },
  {
   "cell_type": "code",
   "execution_count": 4,
   "id": "a5b553e1",
   "metadata": {},
   "outputs": [],
   "source": [
    "df1.rename(columns={'last_name, first_name': 'name'}, inplace=True)\n",
    "df1.rename(columns={'player_age': 'age'}, inplace=True)\n",
    "df1.rename(columns={'batting_avg': 'AVG'}, inplace=True)\n",
    "df1.rename(columns={'slg_percent': 'SLG'}, inplace=True)\n",
    "df1.rename(columns={'on_base_percent': 'OBP'}, inplace=True)\n",
    "df1.rename(columns={'on_base_plus_slug': 'OPS'}, inplace=True)\n",
    "df1.rename(columns={'isolated_power': 'ISO'}, inplace=True)\n",
    "df1.rename(columns={'b_rbi': 'rbi'}, inplace=True)\n",
    "df1.rename(columns={'r_total_stolen_base': 'SB'}, inplace=True)\n",
    "df1.rename(columns={'b_game': 'G'}, inplace=True)\n",
    "df1.rename(columns={'b_hit_by_pitch': 'HBP'}, inplace=True)\n",
    "df1.rename(columns={'r_run': 'R'}, inplace=True)\n",
    "df1.rename(columns={'barrel_batted_rate': 'barrel_rate'}, inplace=True)\n",
    "\n",
    "df2.rename(columns={'last_name, first_name': 'name'}, inplace=True)\n",
    "df2.rename(columns={'player_age': 'age'}, inplace=True)\n",
    "df2.rename(columns={'batting_avg': 'AVG'}, inplace=True)\n",
    "df2.rename(columns={'slg_percent': 'SLG'}, inplace=True)\n",
    "df2.rename(columns={'on_base_percent': 'OBP'}, inplace=True)\n",
    "df2.rename(columns={'on_base_plus_slug': 'OPS'}, inplace=True)\n",
    "df2.rename(columns={'isolated_power': 'ISO'}, inplace=True)\n",
    "df2.rename(columns={'b_rbi': 'rbi'}, inplace=True)\n",
    "df2.rename(columns={'r_total_stolen_base': 'SB'}, inplace=True)\n",
    "df2.rename(columns={'b_game': 'G'}, inplace=True)\n",
    "df2.rename(columns={'b_hit_by_pitch': 'HBP'}, inplace=True)\n",
    "df2.rename(columns={'r_run': 'R'}, inplace=True)\n",
    "df2.rename(columns={'barrel_batted_rate': 'barrel_rate'}, inplace=True)\n",
    "\n",
    "df3.rename(columns={'last_name, first_name': 'name'}, inplace=True)\n",
    "df3.rename(columns={'player_age': 'age'}, inplace=True)\n",
    "df3.rename(columns={'batting_avg': 'AVG'}, inplace=True)\n",
    "df3.rename(columns={'slg_percent': 'SLG'}, inplace=True)\n",
    "df3.rename(columns={'on_base_percent': 'OBP'}, inplace=True)\n",
    "df3.rename(columns={'on_base_plus_slug': 'OPS'}, inplace=True)\n",
    "df3.rename(columns={'isolated_power': 'ISO'}, inplace=True)\n",
    "df3.rename(columns={'b_rbi': 'rbi'}, inplace=True)\n",
    "df3.rename(columns={'r_total_stolen_base': 'SB'}, inplace=True)\n",
    "df3.rename(columns={'b_game': 'G'}, inplace=True)\n",
    "df3.rename(columns={'b_hit_by_pitch': 'HBP'}, inplace=True)\n",
    "df3.rename(columns={'r_run': 'R'}, inplace=True)\n",
    "df3.rename(columns={'barrel_batted_rate': 'barrel_rate'}, inplace=True)\n",
    "\n",
    "df4.rename(columns={'last_name, first_name': 'name'}, inplace=True)\n",
    "df4.rename(columns={'player_age': 'age'}, inplace=True)\n",
    "df4.rename(columns={'batting_avg': 'AVG'}, inplace=True)\n",
    "df4.rename(columns={'slg_percent': 'SLG'}, inplace=True)\n",
    "df4.rename(columns={'on_base_percent': 'OBP'}, inplace=True)\n",
    "df4.rename(columns={'on_base_plus_slug': 'OPS'}, inplace=True)\n",
    "df4.rename(columns={'isolated_power': 'ISO'}, inplace=True)\n",
    "df4.rename(columns={'b_rbi': 'rbi'}, inplace=True)\n",
    "df4.rename(columns={'r_total_stolen_base': 'SB'}, inplace=True)\n",
    "df4.rename(columns={'b_game': 'G'}, inplace=True)\n",
    "df4.rename(columns={'b_hit_by_pitch': 'HBP'}, inplace=True)\n",
    "df4.rename(columns={'r_run': 'R'}, inplace=True)\n",
    "df4.rename(columns={'barrel_batted_rate': 'barrel_rate'}, inplace=True)\n",
    "\n",
    "df5.rename(columns={'last_name, first_name': 'name'}, inplace=True)\n",
    "df5.rename(columns={'player_age': 'age'}, inplace=True)\n",
    "df5.rename(columns={'batting_avg': 'AVG'}, inplace=True)\n",
    "df5.rename(columns={'slg_percent': 'SLG'}, inplace=True)\n",
    "df5.rename(columns={'on_base_percent': 'OBP'}, inplace=True)\n",
    "df5.rename(columns={'on_base_plus_slug': 'OPS'}, inplace=True)\n",
    "df5.rename(columns={'isolated_power': 'ISO'}, inplace=True)\n",
    "df5.rename(columns={'b_rbi': 'rbi'}, inplace=True)\n",
    "df5.rename(columns={'r_total_stolen_base': 'SB'}, inplace=True)\n",
    "df5.rename(columns={'b_game': 'G'}, inplace=True)\n",
    "df5.rename(columns={'b_hit_by_pitch': 'HBP'}, inplace=True)\n",
    "df5.rename(columns={'r_run': 'R'}, inplace=True)\n",
    "df5.rename(columns={'barrel_batted_rate': 'barrel_rate'}, inplace=True)"
   ]
  },
  {
   "cell_type": "markdown",
   "id": "b816f5cd",
   "metadata": {},
   "source": [
    "Clean name column"
   ]
  },
  {
   "cell_type": "code",
   "execution_count": 5,
   "id": "0f1d3148",
   "metadata": {},
   "outputs": [],
   "source": [
    "df1[['lastname', 'firstname']] = df1['name'].str.split(', ', expand = True)\n",
    "df1['full_name'] = df1['firstname'] + ' ' + df1['lastname']\n",
    "df1.drop(['name', 'lastname', 'firstname'], axis=1, inplace=True)\n",
    "\n",
    "df2[['lastname', 'firstname']] = df2['name'].str.split(', ', expand = True)\n",
    "df2['full_name'] = df2['firstname'] + ' ' + df2['lastname']\n",
    "df2.drop(['name', 'lastname', 'firstname'], axis=1, inplace=True)\n",
    "\n",
    "df3[['lastname', 'firstname']] = df3['name'].str.split(', ', expand = True)\n",
    "df3['full_name'] = df3['firstname'] + ' ' + df3['lastname']\n",
    "df3.drop(['name', 'lastname', 'firstname'], axis=1, inplace=True)\n",
    "\n",
    "df4[['lastname', 'firstname']] = df4['name'].str.split(', ', expand = True)\n",
    "df4['full_name'] = df4['firstname'] + ' ' + df4['lastname']\n",
    "df4.drop(['name', 'lastname', 'firstname'], axis=1, inplace=True)\n",
    "\n",
    "df5[['lastname', 'firstname']] = df5['name'].str.split(', ', expand = True)\n",
    "df5['full_name'] = df5['firstname'] + ' ' + df5['lastname']\n",
    "df5.drop(['name', 'lastname', 'firstname'], axis=1, inplace=True)\n"
   ]
  },
  {
   "cell_type": "markdown",
   "id": "561fc373",
   "metadata": {},
   "source": [
    "Reorder Columns"
   ]
  },
  {
   "cell_type": "code",
   "execution_count": 6,
   "id": "00557af1",
   "metadata": {},
   "outputs": [],
   "source": [
    "df1.columns\n",
    "df1 = df1[['full_name','player_id', 'year', 'age', 'ab', 'pa', 'single', 'double', 'triple',\n",
    "       'home_run', 'strikeout', 'walk', 'k_percent', 'bb_percent', 'AVG',\n",
    "       'SLG', 'OBP', 'on_base_plus_slg', 'ISO', 'babip', 'rbi', 'SB', 'G',\n",
    "       'HBP', 'R', 'xba', 'xslg', 'woba', 'xwoba', 'xobp', 'xiso',\n",
    "       'exit_velocity_avg', 'launch_angle_avg', 'barrel_rate',\n",
    "       'hard_hit_percent', 'Unnamed: 35',]]\n",
    "\n",
    "df2 = df2[['full_name','player_id', 'year', 'age', 'ab', 'pa', 'single', 'double', 'triple',\n",
    "       'home_run', 'strikeout', 'walk', 'k_percent', 'bb_percent', 'AVG',\n",
    "       'SLG', 'OBP', 'on_base_plus_slg', 'ISO', 'babip', 'rbi', 'SB', 'G',\n",
    "       'HBP', 'R', 'xba', 'xslg', 'woba', 'xwoba', 'xobp', 'xiso',\n",
    "       'exit_velocity_avg', 'launch_angle_avg', 'barrel_rate',\n",
    "       'hard_hit_percent', 'Unnamed: 35',]]\n",
    "\n",
    "df3 = df3[['full_name','player_id', 'year', 'age', 'ab', 'pa', 'single', 'double', 'triple',\n",
    "       'home_run', 'strikeout', 'walk', 'k_percent', 'bb_percent', 'AVG',\n",
    "       'SLG', 'OBP', 'on_base_plus_slg', 'ISO', 'babip', 'rbi', 'SB', 'G',\n",
    "       'HBP', 'R', 'xba', 'xslg', 'woba', 'xwoba', 'xobp', 'xiso',\n",
    "       'exit_velocity_avg', 'launch_angle_avg', 'barrel_rate',\n",
    "       'hard_hit_percent', 'Unnamed: 35',]]\n",
    "\n",
    "df4 = df4[['full_name','player_id', 'year', 'age', 'ab', 'pa', 'single', 'double', 'triple',\n",
    "       'home_run', 'strikeout', 'walk', 'k_percent', 'bb_percent', 'AVG',\n",
    "       'SLG', 'OBP', 'on_base_plus_slg', 'ISO', 'babip', 'rbi', 'SB', 'G',\n",
    "       'HBP', 'R', 'xba', 'xslg', 'woba', 'xwoba', 'xobp', 'xiso',\n",
    "       'exit_velocity_avg', 'launch_angle_avg', 'barrel_rate',\n",
    "       'hard_hit_percent', 'Unnamed: 35',]]\n",
    "\n",
    "df5 = df5[['full_name','player_id', 'year', 'age', 'ab', 'pa', 'single', 'double', 'triple',\n",
    "       'home_run', 'strikeout', 'walk', 'k_percent', 'bb_percent', 'AVG',\n",
    "       'SLG', 'OBP', 'on_base_plus_slg', 'ISO', 'babip', 'rbi', 'SB', 'G',\n",
    "       'HBP', 'R', 'xba', 'xslg', 'woba', 'xwoba', 'xobp', 'xiso',\n",
    "       'exit_velocity_avg', 'launch_angle_avg', 'barrel_rate',\n",
    "       'hard_hit_percent', 'Unnamed: 35',]]"
   ]
  },
  {
   "cell_type": "markdown",
   "id": "03dac0a0",
   "metadata": {},
   "source": [
    "Create three new columns: Total Points, Average Points, xOPS"
   ]
  },
  {
   "cell_type": "code",
   "execution_count": 7,
   "id": "64cf052e",
   "metadata": {},
   "outputs": [],
   "source": [
    "df1['Total_Points'] = df1['single'] + 2*df1['double'] + 4*df1['triple'] + 5*df1['home_run'] + df1['walk'] + df1['rbi'] + df1['SB'] + df1['HBP'] + df1['R'] - .75*df1['strikeout']\n",
    "df1['Average_Points'] = df1['Total_Points'] / df1['G']\n",
    "df1['xOPS'] = df1['xslg'] + df1['xobp']\n",
    "\n",
    "df2['Total_Points'] = df2['single'] + 2*df2['double'] + 4*df2['triple'] + 5*df2['home_run'] + df2['walk'] + df2['rbi'] + df2['SB'] + df2['HBP'] + df2['R'] - .75*df2['strikeout']\n",
    "df2['Average_Points'] = df2['Total_Points'] / df2['G']\n",
    "df2['xOPS'] = df2['xslg'] + df2['xobp']\n",
    "\n",
    "df3['Total_Points'] = df3['single'] + 2*df3['double'] + 4*df3['triple'] + 5*df3['home_run'] + df3['walk'] + df3['rbi'] + df3['SB'] + df3['HBP'] + df3['R'] - .75*df3['strikeout']\n",
    "df3['Average_Points'] = df3['Total_Points'] / df3['G']\n",
    "df3['xOPS'] = df3['xslg'] + df3['xobp']\n",
    "\n",
    "df4['Total_Points'] = df4['single'] + 2*df4['double'] + 4*df4['triple'] + 5*df4['home_run'] + df4['walk'] + df4['rbi'] + df4['SB'] + df4['HBP'] + df4['R'] - .75*df4['strikeout']\n",
    "df4['Average_Points'] = df4['Total_Points'] / df4['G']\n",
    "df4['xOPS'] = df4['xslg'] + df4['xobp']\n",
    "\n",
    "df5['Total_Points'] = df5['single'] + 2*df5['double'] + 4*df5['triple'] + 5*df5['home_run'] + df5['walk'] + df5['rbi'] + df5['SB'] + df5['HBP'] + df5['R'] - .75*df5['strikeout']\n",
    "df5['Average_Points'] = df5['Total_Points'] / df5['G']\n",
    "df5['xOPS'] = df5['xslg'] + df5['xobp']"
   ]
  },
  {
   "cell_type": "markdown",
   "id": "b569d94d",
   "metadata": {},
   "source": [
    "Left Join each cleaned rotowire table to baseball savant tables"
   ]
  },
  {
   "cell_type": "code",
   "execution_count": 8,
   "id": "e4300caf",
   "metadata": {
    "scrolled": true
   },
   "outputs": [],
   "source": [
    "__2018Hitters = pd.merge(df1,df6,how = 'left',on='full_name')\n",
    "__2019Hitters = pd.merge(df2,df7,how = 'left',on='full_name')\n",
    "__2021Hitters = pd.merge(df3,df8,how = 'left',on='full_name')\n",
    "__2022Hitters = pd.merge(df4,df9,how = 'left',on='full_name')\n",
    "__2023Hitters = pd.merge(df5,df10,how = 'left',on='full_name')\n",
    "\n"
   ]
  },
  {
   "cell_type": "markdown",
   "id": "0991a228",
   "metadata": {},
   "source": [
    "Drop 'Unnamed 35' Column from each data frame"
   ]
  },
  {
   "cell_type": "code",
   "execution_count": 9,
   "id": "d39ce875",
   "metadata": {},
   "outputs": [],
   "source": [
    "__2018Hitters.drop(['Unnamed: 35'], axis=1, inplace=True)\n",
    "__2019Hitters.drop(['Unnamed: 35'], axis=1, inplace=True)\n",
    "__2021Hitters.drop(['Unnamed: 35'], axis=1, inplace=True)\n",
    "__2022Hitters.drop(['Unnamed: 35'], axis=1, inplace=True)\n",
    "__2023Hitters.drop(['Unnamed: 35'], axis=1, inplace=True)"
   ]
  },
  {
   "cell_type": "markdown",
   "id": "b0cfe6cb",
   "metadata": {},
   "source": [
    "Fix the issue of a player who switched teams getting recorded twice "
   ]
  },
  {
   "cell_type": "code",
   "execution_count": 10,
   "id": "32fe08c0",
   "metadata": {},
   "outputs": [],
   "source": [
    "#Remove duplicate rows in each table\n",
    "__2018Hitters = __2018Hitters.drop_duplicates(subset=['full_name'])\n",
    "__2019Hitters = __2019Hitters.drop_duplicates(subset=['full_name'])\n",
    "__2021Hitters = __2021Hitters.drop_duplicates(subset=['full_name'])\n",
    "__2022Hitters = __2022Hitters.drop_duplicates(subset=['full_name'])\n",
    "__2023Hitters = __2023Hitters.drop_duplicates(subset=['full_name'])\n"
   ]
  },
  {
   "cell_type": "markdown",
   "id": "d3e536ff",
   "metadata": {},
   "source": [
    "Glue dataframes together (Union)"
   ]
  },
  {
   "cell_type": "code",
   "execution_count": 11,
   "id": "e3e19b32",
   "metadata": {},
   "outputs": [],
   "source": [
    "concatenated_df = pd.concat([__2018Hitters,__2019Hitters,__2021Hitters,__2022Hitters,__2023Hitters], axis=0, ignore_index=True)\n",
    "#concatenated_df.head()\n",
    "concatenated_df.drop(['single','double','triple','ab'], axis=1, inplace=True)"
   ]
  },
  {
   "cell_type": "markdown",
   "id": "f45dbe3a",
   "metadata": {},
   "source": [
    "Write concatenated dataframe to csv for reporting in SQL and Power BI"
   ]
  },
  {
   "cell_type": "code",
   "execution_count": 12,
   "id": "140a2e0f",
   "metadata": {},
   "outputs": [],
   "source": [
    "concatenated_df.to_csv('MLBHitters.csv', index=False)"
   ]
  },
  {
   "cell_type": "code",
   "execution_count": 19,
   "id": "41a6380f",
   "metadata": {},
   "outputs": [
    {
     "data": {
      "text/html": [
       "<div>\n",
       "<style scoped>\n",
       "    .dataframe tbody tr th:only-of-type {\n",
       "        vertical-align: middle;\n",
       "    }\n",
       "\n",
       "    .dataframe tbody tr th {\n",
       "        vertical-align: top;\n",
       "    }\n",
       "\n",
       "    .dataframe thead th {\n",
       "        text-align: right;\n",
       "    }\n",
       "</style>\n",
       "<table border=\"1\" class=\"dataframe\">\n",
       "  <thead>\n",
       "    <tr style=\"text-align: right;\">\n",
       "      <th></th>\n",
       "      <th>full_name</th>\n",
       "      <th>player_id</th>\n",
       "      <th>year</th>\n",
       "      <th>age</th>\n",
       "      <th>pa</th>\n",
       "      <th>home_run</th>\n",
       "      <th>strikeout</th>\n",
       "      <th>walk</th>\n",
       "      <th>k_percent</th>\n",
       "      <th>bb_percent</th>\n",
       "      <th>...</th>\n",
       "      <th>xiso</th>\n",
       "      <th>exit_velocity_avg</th>\n",
       "      <th>launch_angle_avg</th>\n",
       "      <th>barrel_rate</th>\n",
       "      <th>hard_hit_percent</th>\n",
       "      <th>Total_Points</th>\n",
       "      <th>Average_Points</th>\n",
       "      <th>xOPS</th>\n",
       "      <th>Team</th>\n",
       "      <th>Pos</th>\n",
       "    </tr>\n",
       "  </thead>\n",
       "  <tbody>\n",
       "    <tr>\n",
       "      <th>0</th>\n",
       "      <td>Adrian Beltre</td>\n",
       "      <td>134181</td>\n",
       "      <td>2018</td>\n",
       "      <td>39</td>\n",
       "      <td>481</td>\n",
       "      <td>15</td>\n",
       "      <td>96</td>\n",
       "      <td>34</td>\n",
       "      <td>20.0</td>\n",
       "      <td>7.1</td>\n",
       "      <td>...</td>\n",
       "      <td>0.169</td>\n",
       "      <td>88.7</td>\n",
       "      <td>13.6</td>\n",
       "      <td>6.4</td>\n",
       "      <td>37.4</td>\n",
       "      <td>287.00</td>\n",
       "      <td>2.411765</td>\n",
       "      <td>0.755</td>\n",
       "      <td>TEX</td>\n",
       "      <td>3B</td>\n",
       "    </tr>\n",
       "    <tr>\n",
       "      <th>1</th>\n",
       "      <td>Victor Martinez</td>\n",
       "      <td>400121</td>\n",
       "      <td>2018</td>\n",
       "      <td>39</td>\n",
       "      <td>508</td>\n",
       "      <td>9</td>\n",
       "      <td>49</td>\n",
       "      <td>32</td>\n",
       "      <td>9.6</td>\n",
       "      <td>6.3</td>\n",
       "      <td>...</td>\n",
       "      <td>0.140</td>\n",
       "      <td>87.8</td>\n",
       "      <td>14.1</td>\n",
       "      <td>4.7</td>\n",
       "      <td>30.6</td>\n",
       "      <td>257.25</td>\n",
       "      <td>1.934211</td>\n",
       "      <td>0.720</td>\n",
       "      <td>DET</td>\n",
       "      <td>DH</td>\n",
       "    </tr>\n",
       "    <tr>\n",
       "      <th>2</th>\n",
       "      <td>Albert Pujols</td>\n",
       "      <td>405395</td>\n",
       "      <td>2018</td>\n",
       "      <td>38</td>\n",
       "      <td>498</td>\n",
       "      <td>19</td>\n",
       "      <td>65</td>\n",
       "      <td>28</td>\n",
       "      <td>13.1</td>\n",
       "      <td>5.6</td>\n",
       "      <td>...</td>\n",
       "      <td>0.181</td>\n",
       "      <td>90.0</td>\n",
       "      <td>14.1</td>\n",
       "      <td>6.2</td>\n",
       "      <td>40.9</td>\n",
       "      <td>306.25</td>\n",
       "      <td>2.617521</td>\n",
       "      <td>0.760</td>\n",
       "      <td>LAA</td>\n",
       "      <td>1B</td>\n",
       "    </tr>\n",
       "    <tr>\n",
       "      <th>3</th>\n",
       "      <td>Joe Mauer</td>\n",
       "      <td>408045</td>\n",
       "      <td>2018</td>\n",
       "      <td>35</td>\n",
       "      <td>543</td>\n",
       "      <td>6</td>\n",
       "      <td>86</td>\n",
       "      <td>51</td>\n",
       "      <td>15.8</td>\n",
       "      <td>9.4</td>\n",
       "      <td>...</td>\n",
       "      <td>0.153</td>\n",
       "      <td>91.1</td>\n",
       "      <td>4.4</td>\n",
       "      <td>5.0</td>\n",
       "      <td>44.3</td>\n",
       "      <td>291.50</td>\n",
       "      <td>2.295276</td>\n",
       "      <td>0.813</td>\n",
       "      <td>MIN</td>\n",
       "      <td>1B</td>\n",
       "    </tr>\n",
       "    <tr>\n",
       "      <th>4</th>\n",
       "      <td>Jose Reyes</td>\n",
       "      <td>408314</td>\n",
       "      <td>2018</td>\n",
       "      <td>35</td>\n",
       "      <td>251</td>\n",
       "      <td>4</td>\n",
       "      <td>39</td>\n",
       "      <td>22</td>\n",
       "      <td>15.5</td>\n",
       "      <td>8.8</td>\n",
       "      <td>...</td>\n",
       "      <td>0.085</td>\n",
       "      <td>85.4</td>\n",
       "      <td>12.7</td>\n",
       "      <td>2.6</td>\n",
       "      <td>24.3</td>\n",
       "      <td>123.75</td>\n",
       "      <td>1.125000</td>\n",
       "      <td>0.602</td>\n",
       "      <td>NYM</td>\n",
       "      <td>SS</td>\n",
       "    </tr>\n",
       "  </tbody>\n",
       "</table>\n",
       "<p>5 rows × 36 columns</p>\n",
       "</div>"
      ],
      "text/plain": [
       "         full_name  player_id  year  age   pa  home_run  strikeout  walk  \\\n",
       "0    Adrian Beltre     134181  2018   39  481        15         96    34   \n",
       "1  Victor Martinez     400121  2018   39  508         9         49    32   \n",
       "2    Albert Pujols     405395  2018   38  498        19         65    28   \n",
       "3        Joe Mauer     408045  2018   35  543         6         86    51   \n",
       "4       Jose Reyes     408314  2018   35  251         4         39    22   \n",
       "\n",
       "   k_percent  bb_percent  ...   xiso  exit_velocity_avg  launch_angle_avg  \\\n",
       "0       20.0         7.1  ...  0.169               88.7              13.6   \n",
       "1        9.6         6.3  ...  0.140               87.8              14.1   \n",
       "2       13.1         5.6  ...  0.181               90.0              14.1   \n",
       "3       15.8         9.4  ...  0.153               91.1               4.4   \n",
       "4       15.5         8.8  ...  0.085               85.4              12.7   \n",
       "\n",
       "   barrel_rate  hard_hit_percent  Total_Points  Average_Points   xOPS  Team  \\\n",
       "0          6.4              37.4        287.00        2.411765  0.755   TEX   \n",
       "1          4.7              30.6        257.25        1.934211  0.720   DET   \n",
       "2          6.2              40.9        306.25        2.617521  0.760   LAA   \n",
       "3          5.0              44.3        291.50        2.295276  0.813   MIN   \n",
       "4          2.6              24.3        123.75        1.125000  0.602   NYM   \n",
       "\n",
       "   Pos  \n",
       "0   3B  \n",
       "1   DH  \n",
       "2   1B  \n",
       "3   1B  \n",
       "4   SS  \n",
       "\n",
       "[5 rows x 36 columns]"
      ]
     },
     "execution_count": 19,
     "metadata": {},
     "output_type": "execute_result"
    }
   ],
   "source": [
    "concatenated_df.head()"
   ]
  },
  {
   "cell_type": "markdown",
   "id": "4d90547e",
   "metadata": {},
   "source": [
    "Minor League Hitter Analysis"
   ]
  },
  {
   "cell_type": "code",
   "execution_count": 12,
   "id": "440eb232",
   "metadata": {},
   "outputs": [],
   "source": [
    "#Import Triple A Standard and Advanced Stats\n",
    "\n",
    "#International League Standard:\n",
    "df11 = pd.read_csv('fangraphs-minor-league-leaders.csv')\n",
    "#International League Advanced:\n",
    "df12 = pd.read_csv('fangraphs-minor-league-leaders (1).csv')\n",
    "\n",
    "#Pacific League Standard\n",
    "df13 = pd.read_csv('fangraphs-minor-league-leaders (2).csv')\n",
    "#Pacific League Advanced\n",
    "df14 = pd.read_csv('fangraphs-minor-league-leaders (3).csv')"
   ]
  },
  {
   "cell_type": "code",
   "execution_count": 13,
   "id": "62bfcd87",
   "metadata": {},
   "outputs": [
    {
     "name": "stdout",
     "output_type": "stream",
     "text": [
      "<class 'pandas.core.frame.DataFrame'>\n",
      "RangeIndex: 83 entries, 0 to 82\n",
      "Data columns (total 25 columns):\n",
      " #   Column    Non-Null Count  Dtype  \n",
      "---  ------    --------------  -----  \n",
      " 0   Name      83 non-null     object \n",
      " 1   Team      83 non-null     object \n",
      " 2   Level     83 non-null     object \n",
      " 3   Age       83 non-null     int64  \n",
      " 4   G         83 non-null     int64  \n",
      " 5   AB        83 non-null     int64  \n",
      " 6   PA        83 non-null     int64  \n",
      " 7   H         83 non-null     int64  \n",
      " 8   1B        83 non-null     int64  \n",
      " 9   2B        83 non-null     int64  \n",
      " 10  3B        83 non-null     int64  \n",
      " 11  HR        83 non-null     int64  \n",
      " 12  R         83 non-null     int64  \n",
      " 13  RBI       83 non-null     int64  \n",
      " 14  BB        83 non-null     int64  \n",
      " 15  IBB       83 non-null     int64  \n",
      " 16  SO        83 non-null     int64  \n",
      " 17  HBP       83 non-null     int64  \n",
      " 18  SF        83 non-null     int64  \n",
      " 19  SH        83 non-null     int64  \n",
      " 20  GDP       83 non-null     int64  \n",
      " 21  SB        83 non-null     int64  \n",
      " 22  CS        83 non-null     int64  \n",
      " 23  AVG       83 non-null     float64\n",
      " 24  PlayerId  83 non-null     object \n",
      "dtypes: float64(1), int64(20), object(4)\n",
      "memory usage: 16.3+ KB\n",
      "<class 'pandas.core.frame.DataFrame'>\n",
      "RangeIndex: 83 entries, 0 to 82\n",
      "Data columns (total 21 columns):\n",
      " #   Column    Non-Null Count  Dtype  \n",
      "---  ------    --------------  -----  \n",
      " 0   Name      83 non-null     object \n",
      " 1   Team      83 non-null     object \n",
      " 2   Level     83 non-null     object \n",
      " 3   Age       83 non-null     int64  \n",
      " 4   PA        83 non-null     int64  \n",
      " 5   BB%       83 non-null     float64\n",
      " 6   K%        83 non-null     float64\n",
      " 7   BB/K      83 non-null     float64\n",
      " 8   AVG       83 non-null     float64\n",
      " 9   OBP       83 non-null     float64\n",
      " 10  SLG       83 non-null     float64\n",
      " 11  OPS       83 non-null     float64\n",
      " 12  ISO       83 non-null     float64\n",
      " 13  Spd       83 non-null     float64\n",
      " 14  BABIP     83 non-null     float64\n",
      " 15  wSB       83 non-null     float64\n",
      " 16  wRC       83 non-null     float64\n",
      " 17  wRAA      83 non-null     float64\n",
      " 18  wOBA      83 non-null     float64\n",
      " 19  wRC+      83 non-null     float64\n",
      " 20  PlayerId  83 non-null     object \n",
      "dtypes: float64(15), int64(2), object(4)\n",
      "memory usage: 13.7+ KB\n"
     ]
    }
   ],
   "source": [
    "#df11.columns\n",
    "df11.info()\n",
    "df12.info()\n"
   ]
  },
  {
   "cell_type": "markdown",
   "id": "97b45b0d",
   "metadata": {},
   "source": [
    "Drop Unneccesary Columns"
   ]
  },
  {
   "cell_type": "code",
   "execution_count": 14,
   "id": "f8ebc57b",
   "metadata": {},
   "outputs": [],
   "source": [
    "df11.drop(['AB', 'H', 'SF','SH','GDP','CS'], axis=1, inplace=True)\n",
    "df12.drop(['Name', 'Team', 'Level','Age','PA','AVG','wSB','wRC','wRAA','wRC+'], axis=1, inplace=True)\n",
    "df13.drop(['AB', 'H', 'SF','SH','GDP','CS'], axis=1, inplace=True)\n",
    "df14.drop(['Name', 'Team', 'Level','Age','PA','AVG','wSB','wRC','wRAA','wRC+'], axis=1, inplace=True)"
   ]
  },
  {
   "cell_type": "markdown",
   "id": "fa3b2738",
   "metadata": {},
   "source": [
    "Merge same league dataframes together then concatenate the two tables to create one table"
   ]
  },
  {
   "cell_type": "code",
   "execution_count": 15,
   "id": "1beb9127",
   "metadata": {},
   "outputs": [],
   "source": [
    "#International League\n",
    "df15 = pd.merge(df11,df12,how = 'left',on = 'PlayerId')\n",
    "#Pacific League\n",
    "df16 = pd.merge(df13,df14,how = 'left',on = 'PlayerId')\n",
    "#Concatentated df\n",
    "concatdf = pd.concat([df15,df16], axis=0, ignore_index=True) "
   ]
  },
  {
   "cell_type": "markdown",
   "id": "333a1e8b",
   "metadata": {},
   "source": [
    "Add Average Fantasy Points column"
   ]
  },
  {
   "cell_type": "code",
   "execution_count": 16,
   "id": "11172325",
   "metadata": {},
   "outputs": [],
   "source": [
    "concatdf['Average_Points'] = (concatdf['1B'] + 2*concatdf['2B'] + 4*concatdf['3B'] + 5*concatdf['HR'] + concatdf['BB'] + concatdf['RBI'] + concatdf['SB'] + concatdf['HBP'] + concatdf['R'] - .75*concatdf['SO'])/concatdf['G']"
   ]
  },
  {
   "cell_type": "markdown",
   "id": "ad42a3ef",
   "metadata": {},
   "source": [
    "Write to CSV"
   ]
  },
  {
   "cell_type": "code",
   "execution_count": 17,
   "id": "e04dbf2f",
   "metadata": {},
   "outputs": [],
   "source": [
    "concatdf.to_csv('MinorLeagueHitters.csv', index=False)"
   ]
  },
  {
   "cell_type": "markdown",
   "id": "df080ad8",
   "metadata": {},
   "source": [
    "Export dataframes to SQL"
   ]
  },
  {
   "cell_type": "code",
   "execution_count": 40,
   "id": "da581e2a",
   "metadata": {},
   "outputs": [],
   "source": [
    "#Import SQLLite\n",
    "import sqlite3\n",
    "\n",
    "#Connect/Create a database\n",
    "connection = sqlite3.connect('Hitters')\n",
    "\n",
    "#Import the minor leaguers\n",
    "#concatdf.to_sql('minor_hitters',connection,if_exists='replace')\n",
    "\n",
    "#Import the MLB hitters\n",
    "concatenated_df.to_sql('major_hitters',connection,if_exists='replace')\n",
    "\n",
    "#Close connection\n",
    "connection.close()"
   ]
  }
 ],
 "metadata": {
  "kernelspec": {
   "display_name": "Python 3 (ipykernel)",
   "language": "python",
   "name": "python3"
  },
  "language_info": {
   "codemirror_mode": {
    "name": "ipython",
    "version": 3
   },
   "file_extension": ".py",
   "mimetype": "text/x-python",
   "name": "python",
   "nbconvert_exporter": "python",
   "pygments_lexer": "ipython3",
   "version": "3.9.12"
  }
 },
 "nbformat": 4,
 "nbformat_minor": 5
}
